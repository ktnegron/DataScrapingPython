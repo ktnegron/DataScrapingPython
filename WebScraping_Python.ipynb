{
 "cells": [
  {
   "cell_type": "markdown",
   "id": "de6bfe28",
   "metadata": {},
   "source": [
    "# Python Data Scraping Test"
   ]
  },
  {
   "cell_type": "code",
   "execution_count": 73,
   "id": "c37671ab",
   "metadata": {},
   "outputs": [
    {
     "name": "stdout",
     "output_type": "stream",
     "text": [
      "Requirement already satisfied: beautifulsoup4 in /opt/anaconda3/lib/python3.9/site-packages (4.10.0)\n",
      "Requirement already satisfied: soupsieve>1.2 in /opt/anaconda3/lib/python3.9/site-packages (from beautifulsoup4) (2.2.1)\n",
      "Note: you may need to restart the kernel to use updated packages.\n"
     ]
    }
   ],
   "source": [
    "pip install beautifulsoup4"
   ]
  },
  {
   "cell_type": "code",
   "execution_count": 74,
   "id": "f2fbf5fc",
   "metadata": {},
   "outputs": [],
   "source": [
    "import pandas as pd"
   ]
  },
  {
   "cell_type": "code",
   "execution_count": 227,
   "id": "79f81e5c",
   "metadata": {},
   "outputs": [
    {
     "name": "stdout",
     "output_type": "stream",
     "text": [
      "Requirement already satisfied: lxml in /opt/anaconda3/lib/python3.9/site-packages (4.6.3)\n",
      "Note: you may need to restart the kernel to use updated packages.\n"
     ]
    }
   ],
   "source": [
    "pip install lxml"
   ]
  },
  {
   "cell_type": "code",
   "execution_count": 3,
   "id": "142ef23a",
   "metadata": {},
   "outputs": [],
   "source": [
    "from bs4 import BeautifulSoup"
   ]
  },
  {
   "cell_type": "code",
   "execution_count": 4,
   "id": "21f6ba9b",
   "metadata": {},
   "outputs": [],
   "source": [
    "with open('home.html','r') as html_file:\n",
    "    content= html_file.read()"
   ]
  },
  {
   "cell_type": "code",
   "execution_count": 125,
   "id": "8c69041a",
   "metadata": {},
   "outputs": [],
   "source": [
    "soup = BeautifulSoup(content,'lxml')"
   ]
  },
  {
   "cell_type": "code",
   "execution_count": 216,
   "id": "e505f96b",
   "metadata": {
    "scrolled": false
   },
   "outputs": [],
   "source": [
    "#print(soup.prettify())"
   ]
  },
  {
   "cell_type": "markdown",
   "id": "c06d8a2e",
   "metadata": {},
   "source": [
    "* Idea is to work with the tags in the html code to treat them as python objects."
   ]
  },
  {
   "cell_type": "code",
   "execution_count": 179,
   "id": "ea994569",
   "metadata": {},
   "outputs": [],
   "source": [
    "descrp_articles=soup.find_all('p')"
   ]
  },
  {
   "cell_type": "code",
   "execution_count": 96,
   "id": "3c7318a8",
   "metadata": {},
   "outputs": [
    {
     "name": "stdout",
     "output_type": "stream",
     "text": [
      "A new collection of our most beach-friendly articles\n",
      "Our coverage of the war with Russia\n",
      "Our weekly podcast on US politics\n",
      "Briefing\n",
      "That is why his country is such a threat to Ukraine, the West and his own people\n",
      "A group of illusionists got rich making addictive videos for social media. Did it cost them their souls?\n",
      "United States\n",
      "Critics fear the $280bn push will be wasteful, but the law has attracted rare bipartisan support\n",
      "Volodymyr Zelensky, Ukraine’s president, called a strike on a prison which killed 53 Ukrainian prisoners of war “a deliberate Russian war crime”...\n",
      "Supporters of Muqtada al-Sadr, an Iraqi cleric, forced their way into parliament for the second time in a week...\n",
      "Brazil and Spain reported deaths related to monkeypox, the first fatalities from the virus outside Africa...\n",
      "On his flight home from a six-day “penitential pilgrimage” to Canada, Pope Francis said that he might one day have to retire...\n",
      "Saving lives will also involve talking to terrorists\n",
      "And in Congress it may be about to arrive\n",
      "The impact of Pfizer’s antiviral drug is hard to detect in official statistics\n",
      "An employment-tribunal ruling delivers a fresh setback to supporters of gender self-ID\n",
      "A new collection of our most beach-friendly articles\n",
      "Our coverage of the war with Russia\n",
      "Our weekly podcast on US politics\n",
      "A volatile millennial wields absolute power in Saudi Arabia. What will he do next?\n",
      "The story of Manuel Ramírez and his fight for justice in Mexico\n",
      "We recommend four books, and one album, which illuminate Ukrainian culture\n",
      "Discover our full collection of stories\n",
      "Lower inflation and greener energy are worth the price of a short downturn\n",
      "Growth in the rich world is slowing, but has not crashed to a halt\n",
      "We cross-check the latest numbers\n",
      "Wednesday’s rise in interest rates is part of the fastest monetary tightening in years\n",
      "A volatile millennial wields absolute power in Saudi Arabia. What will he do next?\n",
      "The illusionists making addictive videos\n",
      "Vladimir Putin is in thrall to a distinctive brand of it\n",
      "Lower inflation and green energy\n",
      "America’s technology giants are facing unfamiliar limits to growth\n",
      "The environmental, social and governance (ESG) approach to investment is broken. It needs to be streamlined and stripped of sanctimoniousness, argues Henry Tricks\n",
      "Published since September 1843 to take part in “a severe contest between intelligence, which presses forward, and an unworthy, timid ignorance obstructing our progress.” \n",
      "Copyright © The Economist Newspaper Limited 2022. All rights reserved.\n"
     ]
    }
   ],
   "source": [
    "# description of article classes \n",
    "for description in descrp_articles:\n",
    "    print(description.text)"
   ]
  },
  {
   "cell_type": "markdown",
   "id": "ef4d90fa",
   "metadata": {},
   "source": [
    "### Basic scraping of articles that are not headliners in The Economist webpage"
   ]
  },
  {
   "cell_type": "code",
   "execution_count": 230,
   "id": "5d8c57df",
   "metadata": {},
   "outputs": [],
   "source": [
    "article_cards = soup.find_all('div', class_='css-kmdycp e1kd29w50')  "
   ]
  },
  {
   "cell_type": "code",
   "execution_count": 237,
   "id": "326cfc7c",
   "metadata": {},
   "outputs": [
    {
     "name": "stdout",
     "output_type": "stream",
     "text": [
      "Title: 1843 magazine | Did this man spend 20 years in prison for murdering a man who is still alive?\n",
      "Description: The story of Manuel Ramírez and his fight for justice in Mexico\n",
      "Title: What to read to understand Ukraine beyond the war\n",
      "Description: We recommend four books, and one album, which illuminate Ukrainian culture\n",
      "Title: Why it is too early to say the world economy is in recession\n",
      "Description: Growth in the rich world is slowing, but has not crashed to a halt\n",
      "Title: China’s official growth figures are bad enough to be believed\n",
      "Description: We cross-check the latest numbers\n"
     ]
    }
   ],
   "source": [
    "articles ={}\n",
    "description = {}\n",
    "for article in article_cards:\n",
    "    article_title = article.h3.text\n",
    "    article_descrp = article.p.text\n",
    "    articles['Title'] =[article_title]\n",
    "    description['Description']=[article_descrp]\n",
    "    \n",
    "    art = article_title\n",
    "    print(f'Title: {art}')\n",
    "    desc = article_descrp\n",
    "    print(f'Description: {desc}')"
   ]
  },
  {
   "cell_type": "markdown",
   "id": "2ab23869",
   "metadata": {},
   "source": [
    "# Requests"
   ]
  },
  {
   "cell_type": "code",
   "execution_count": 29,
   "id": "a8894fcd",
   "metadata": {
    "scrolled": true
   },
   "outputs": [
    {
     "name": "stdout",
     "output_type": "stream",
     "text": [
      "Requirement already satisfied: requests in /opt/anaconda3/lib/python3.9/site-packages (2.26.0)\n",
      "Requirement already satisfied: urllib3<1.27,>=1.21.1 in /opt/anaconda3/lib/python3.9/site-packages (from requests) (1.26.7)\n",
      "Requirement already satisfied: certifi>=2017.4.17 in /opt/anaconda3/lib/python3.9/site-packages (from requests) (2021.10.8)\n",
      "Requirement already satisfied: charset-normalizer~=2.0.0 in /opt/anaconda3/lib/python3.9/site-packages (from requests) (2.0.4)\n",
      "Requirement already satisfied: idna<4,>=2.5 in /opt/anaconda3/lib/python3.9/site-packages (from requests) (3.2)\n",
      "Note: you may need to restart the kernel to use updated packages.\n"
     ]
    }
   ],
   "source": [
    "pip install requests"
   ]
  },
  {
   "cell_type": "code",
   "execution_count": 268,
   "id": "02c915d4",
   "metadata": {},
   "outputs": [],
   "source": [
    "#pip install html5lib"
   ]
  },
  {
   "cell_type": "code",
   "execution_count": 278,
   "id": "3726babe",
   "metadata": {
    "scrolled": true
   },
   "outputs": [
    {
     "data": {
      "text/html": [
       "<div>\n",
       "<style scoped>\n",
       "    .dataframe tbody tr th:only-of-type {\n",
       "        vertical-align: middle;\n",
       "    }\n",
       "\n",
       "    .dataframe tbody tr th {\n",
       "        vertical-align: top;\n",
       "    }\n",
       "\n",
       "    .dataframe thead th {\n",
       "        text-align: right;\n",
       "    }\n",
       "</style>\n",
       "<table border=\"1\" class=\"dataframe\">\n",
       "  <thead>\n",
       "    <tr style=\"text-align: right;\">\n",
       "      <th></th>\n",
       "      <th>Title</th>\n",
       "      <th>Description</th>\n",
       "      <th>Link</th>\n",
       "    </tr>\n",
       "  </thead>\n",
       "  <tbody>\n",
       "    <tr>\n",
       "      <th>0</th>\n",
       "      <td>1843 magazine | Did this man spend 20 years in...</td>\n",
       "      <td>The story of Manuel Ramírez and his fight for ...</td>\n",
       "      <td>/1843/2022/07/28/did-this-man-spend-20-years-i...</td>\n",
       "    </tr>\n",
       "    <tr>\n",
       "      <th>1</th>\n",
       "      <td>What to read to understand Ukraine beyond the war</td>\n",
       "      <td>We recommend four books, and one album, which ...</td>\n",
       "      <td>/the-economist-reads/2022/07/28/what-to-read-t...</td>\n",
       "    </tr>\n",
       "    <tr>\n",
       "      <th>2</th>\n",
       "      <td>Why it is too early to say the world economy i...</td>\n",
       "      <td>Growth in the rich world is slowing, but has n...</td>\n",
       "      <td>/finance-and-economics/2022/07/24/why-it-is-to...</td>\n",
       "    </tr>\n",
       "    <tr>\n",
       "      <th>3</th>\n",
       "      <td>China’s official growth figures are bad enough...</td>\n",
       "      <td>We cross-check the latest numbers</td>\n",
       "      <td>/finance-and-economics/2022/07/28/chinas-offic...</td>\n",
       "    </tr>\n",
       "  </tbody>\n",
       "</table>\n",
       "</div>"
      ],
      "text/plain": [
       "                                               Title  \\\n",
       "0  1843 magazine | Did this man spend 20 years in...   \n",
       "1  What to read to understand Ukraine beyond the war   \n",
       "2  Why it is too early to say the world economy i...   \n",
       "3  China’s official growth figures are bad enough...   \n",
       "\n",
       "                                         Description  \\\n",
       "0  The story of Manuel Ramírez and his fight for ...   \n",
       "1  We recommend four books, and one album, which ...   \n",
       "2  Growth in the rich world is slowing, but has n...   \n",
       "3                  We cross-check the latest numbers   \n",
       "\n",
       "                                                Link  \n",
       "0  /1843/2022/07/28/did-this-man-spend-20-years-i...  \n",
       "1  /the-economist-reads/2022/07/28/what-to-read-t...  \n",
       "2  /finance-and-economics/2022/07/24/why-it-is-to...  \n",
       "3  /finance-and-economics/2022/07/28/chinas-offic...  "
      ]
     },
     "execution_count": 278,
     "metadata": {},
     "output_type": "execute_result"
    }
   ],
   "source": [
    "import requests \n",
    "#import csv\n",
    "\n",
    "URL = 'https://www.economist.com/'\n",
    "r = requests.get(URL)\n",
    "\n",
    "soup = BeautifulSoup(r.content,'lxml')   \n",
    "article_cards = soup.find_all('div', class_='css-kmdycp e1kd29w50')\n",
    "\n",
    "titles = []\n",
    "descrps = []\n",
    "links = []\n",
    "for article in article_cards:\n",
    "    title =article.find('h3', class_='css-1e1hbwe evsrcsw0').text\n",
    "    titles.append(title)\n",
    "    descrp =article.find('p',class_='css-1vfigag ey69q3h0').text\n",
    "    descrps.append(descrp)\n",
    "    link=article.h3.a['href']\n",
    "    links.append(link)\n",
    "    df = pd.DataFrame(titles)\n",
    "    df.columns = ['Title']\n",
    "    df['Description'] = descrps\n",
    "    df['Link']=links\n",
    "    \n",
    "df\n"
   ]
  },
  {
   "cell_type": "markdown",
   "id": "18d3476e",
   "metadata": {},
   "source": [
    "## Example 2: Scraping Python jobs"
   ]
  },
  {
   "cell_type": "code",
   "execution_count": null,
   "id": "7e27e869",
   "metadata": {},
   "outputs": [
    {
     "name": "stdout",
     "output_type": "stream",
     "text": [
      "Put a skill that you are not familiar with\n"
     ]
    }
   ],
   "source": [
    "print('Put a skill that you are not familiar with')\n",
    "excl_skill=input('>')\n",
    "print(f'Filtering out {excl_skill}')"
   ]
  },
  {
   "cell_type": "code",
   "execution_count": null,
   "id": "60973d5a",
   "metadata": {},
   "outputs": [],
   "source": [
    "def find_jobs():\n",
    "    html_text = requests.get(URL)\n",
    "    soup=BeautifulSoup(html_text, 'lxml')\n",
    "    jobs=soup.find_all('li',class_='xxx')\n",
    "    for job in jobs:\n",
    "        published_date = job.find('span',class_='xxx').span.text\n",
    "        if 'few' in published_date:\n",
    "            company_name = job.find('h3',class_='xxx').text.replace(' ','')\n",
    "            skills=job.find('span',class_='xxx').text.replace(' ','')\n",
    "            more_info=job.header.h2.a['href'] ##retrieving the value of that attribute 'a'\n",
    "            if unfamiliar_skill not in skills:\n",
    "                print(f\"Company Name: {company_name.strip()}\")\n",
    "                print(f\"Required Skills: {skills.strip()}\")\n",
    "                print(f\"More Info: {more_info.strip()}\") "
   ]
  },
  {
   "cell_type": "code",
   "execution_count": null,
   "id": "e989cce5",
   "metadata": {},
   "outputs": [],
   "source": []
  }
 ],
 "metadata": {
  "kernelspec": {
   "display_name": "Python 3 (ipykernel)",
   "language": "python",
   "name": "python3"
  },
  "language_info": {
   "codemirror_mode": {
    "name": "ipython",
    "version": 3
   },
   "file_extension": ".py",
   "mimetype": "text/x-python",
   "name": "python",
   "nbconvert_exporter": "python",
   "pygments_lexer": "ipython3",
   "version": "3.9.7"
  }
 },
 "nbformat": 4,
 "nbformat_minor": 5
}
